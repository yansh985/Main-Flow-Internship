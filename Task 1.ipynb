{
 "cells": [
  {
   "cell_type": "markdown",
   "id": "0aea01e9",
   "metadata": {},
   "source": [
    "# Basic Data Types in Python"
   ]
  },
  {
   "cell_type": "code",
   "execution_count": 1,
   "id": "6ab27213",
   "metadata": {},
   "outputs": [
    {
     "name": "stdout",
     "output_type": "stream",
     "text": [
      "Addition: 13\n",
      "Subtraction: 7\n",
      "Multiplication: 30\n",
      "Division: 3.3333333333333335\n",
      "Floor Division: 3\n",
      "Modulus: 1\n",
      "Exponentiation: 1000\n"
     ]
    }
   ],
   "source": [
    "# Integer Operations\n",
    "a = 10\n",
    "b = 3\n",
    "add_result = a + b\n",
    "print(\"Addition:\", add_result)\n",
    "sub_result = a - b\n",
    "print(\"Subtraction:\", sub_result)\n",
    "mul_result = a * b\n",
    "print(\"Multiplication:\", mul_result)\n",
    "div_result = a / b\n",
    "print(\"Division:\", div_result)\n",
    "floor_div_result = a // b\n",
    "print(\"Floor Division:\", floor_div_result)\n",
    "mod_result = a % b\n",
    "print(\"Modulus:\", mod_result)\n",
    "exp_result = a ** b\n",
    "print(\"Exponentiation:\", exp_result)"
   ]
  },
  {
   "cell_type": "code",
   "execution_count": 2,
   "id": "c01ab11a",
   "metadata": {},
   "outputs": [
    {
     "name": "stdout",
     "output_type": "stream",
     "text": [
      "Float Addition: 13.0\n",
      "Float Subtraction: 8.0\n",
      "Float Multiplication: 26.25\n",
      "Float Division: 4.2\n"
     ]
    }
   ],
   "source": [
    "# Floating Point Operations\n",
    "x = 10.5\n",
    "y = 2.5\n",
    "add_float_result = x + y\n",
    "print(\"Float Addition:\", add_float_result)\n",
    "sub_float_result = x - y\n",
    "print(\"Float Subtraction:\", sub_float_result)\n",
    "mul_float_result = x * y\n",
    "print(\"Float Multiplication:\", mul_float_result)\n",
    "div_float_result = x / y\n",
    "print(\"Float Division:\", div_float_result)"
   ]
  },
  {
   "cell_type": "code",
   "execution_count": 3,
   "id": "2ed67ef0",
   "metadata": {},
   "outputs": [
    {
     "name": "stdout",
     "output_type": "stream",
     "text": [
      "Complex Addition: (3+5j)\n",
      "Complex Subtraction: (-1-1j)\n",
      "Complex Multiplication: (-4+7j)\n",
      "Complex Division: (0.6153846153846154+0.07692307692307691j)\n"
     ]
    }
   ],
   "source": [
    "# Complex Number Operations\n",
    "c1 = 1 + 2j\n",
    "c2 = 2 + 3j\n",
    "add_complex_result = c1 + c2\n",
    "print(\"Complex Addition:\", add_complex_result)\n",
    "sub_complex_result = c1 - c2\n",
    "print(\"Complex Subtraction:\", sub_complex_result)\n",
    "mul_complex_result = c1 * c2\n",
    "print(\"Complex Multiplication:\", mul_complex_result)\n",
    "div_complex_result = c1 / c2\n",
    "print(\"Complex Division:\", div_complex_result)"
   ]
  },
  {
   "cell_type": "code",
   "execution_count": 4,
   "id": "788e6c6e",
   "metadata": {},
   "outputs": [
    {
     "name": "stdout",
     "output_type": "stream",
     "text": [
      "String Concatenation: Hello World\n",
      "String Repetition: HelloHelloHello\n",
      "String Slicing: ell\n"
     ]
    }
   ],
   "source": [
    "# String Operations\n",
    "str1 = \"Hello\"\n",
    "str2 = \"World\"\n",
    "concat_result = str1 + \" \" + str2\n",
    "print(\"String Concatenation:\", concat_result)\n",
    "repeat_result = str1 * 3\n",
    "print(\"String Repetition:\", repeat_result)\n",
    "slice_result = str1[1:4]\n",
    "print(\"String Slicing:\", slice_result)"
   ]
  },
  {
   "cell_type": "code",
   "execution_count": 5,
   "id": "91ee483a",
   "metadata": {},
   "outputs": [
    {
     "name": "stdout",
     "output_type": "stream",
     "text": [
      "List Concatenation: [1, 2, 3, 4, 5, 6, 7, 8]\n",
      "List Repetition: [1, 2, 3, 4, 5, 1, 2, 3, 4, 5, 1, 2, 3, 4, 5]\n",
      "List Slicing: [2, 3]\n",
      "List after Append: [1, 2, 3, 4, 5, 6]\n",
      "List after Remove: [1, 3, 4, 5, 6]\n",
      "List after Insert: [1, 3, 'a', 4, 5, 6]\n",
      "List after Extend: [1, 3, 'a', 4, 5, 6, 7, 8, 9]\n",
      "Element Popped from List: 4\n",
      "List after Pop: [1, 3, 'a', 5, 6, 7, 8, 9]\n",
      "Reversed List: [9, 8, 7, 6, 5, 'a', 3, 1]\n"
     ]
    }
   ],
   "source": [
    "# List Operations\n",
    "list1 = [1, 2, 3, 4, 5]\n",
    "concat_list_result = list1 + [6, 7, 8]\n",
    "print(\"List Concatenation:\", concat_list_result)\n",
    "repeat_list_result = list1 * 3\n",
    "print(\"List Repetition:\", repeat_list_result)\n",
    "slice_list_result = list1[1:3]\n",
    "print(\"List Slicing:\", slice_list_result)\n",
    "list1.append(6)\n",
    "print(\"List after Append:\", list1)\n",
    "list1.remove(2)\n",
    "print(\"List after Remove:\", list1)\n",
    "list1.insert(2, 'a')\n",
    "print(\"List after Insert:\", list1)\n",
    "list1.extend([7, 8, 9])\n",
    "print(\"List after Extend:\", list1)\n",
    "pop_list_result = list1.pop(3)\n",
    "print(\"Element Popped from List:\", pop_list_result)\n",
    "print(\"List after Pop:\", list1)\n",
    "list1.reverse()\n",
    "print(\"Reversed List:\", list1)"
   ]
  },
  {
   "cell_type": "code",
   "execution_count": 6,
   "id": "e615d9e8",
   "metadata": {},
   "outputs": [
    {
     "name": "stdout",
     "output_type": "stream",
     "text": [
      "Access Dictionary Element: 1\n",
      "Dictionary after Addition: {'a': 1, 'b': 2, 'c': 3, 'd': 4}\n",
      "Dictionary after Deletion: {'a': 1, 'c': 3, 'd': 4}\n",
      "Dictionary Keys: ['a', 'c', 'd']\n",
      "Dictionary Values: [1, 3, 4]\n",
      "Dictionary Items: [('a', 1), ('c', 3), ('d', 4)]\n",
      "Dictionary after Update: {'a': 1, 'c': 3, 'd': 4, 'e': 5, 'f': 6}\n",
      "Key 'a' exists in Dictionary: True\n",
      "Get Value with Default: default_value\n"
     ]
    }
   ],
   "source": [
    "# Dictionary Operations\n",
    "dict1 = {'a': 1, 'b': 2, 'c': 3}\n",
    "access_result = dict1['a']\n",
    "print(\"Access Dictionary Element:\", access_result)\n",
    "dict1['d'] = 4\n",
    "print(\"Dictionary after Addition:\", dict1)\n",
    "del dict1['b']\n",
    "print(\"Dictionary after Deletion:\", dict1)\n",
    "keys_result = list(dict1.keys())\n",
    "print(\"Dictionary Keys:\", keys_result)\n",
    "values_result = list(dict1.values())\n",
    "print(\"Dictionary Values:\", values_result)\n",
    "items_result = list(dict1.items())\n",
    "print(\"Dictionary Items:\", items_result)\n",
    "dict1.update({'e': 5, 'f': 6})\n",
    "print(\"Dictionary after Update:\", dict1)\n",
    "key_exists_result = 'a' in dict1\n",
    "print(\"Key 'a' exists in Dictionary:\", key_exists_result)\n",
    "get_default_result = dict1.get('g', 'default_value')\n",
    "print(\"Get Value with Default:\", get_default_result)"
   ]
  },
  {
   "cell_type": "code",
   "execution_count": 7,
   "id": "bf7bc956",
   "metadata": {},
   "outputs": [
    {
     "name": "stdout",
     "output_type": "stream",
     "text": [
      "Access Tuple Element: 2\n",
      "Tuple Slicing: (1, 2)\n",
      "Length of Tuple: 5\n",
      "Count of element 3 in Tuple: 1\n",
      "Index of element 4 in Tuple: 3\n"
     ]
    }
   ],
   "source": [
    "# Tuple Operations\n",
    "tuple1 = (1, 2, 3, 4, 5)\n",
    "access_tuple_result = tuple1[1]\n",
    "print(\"Access Tuple Element:\", access_tuple_result)\n",
    "slice_tuple_result = tuple1[0:2]\n",
    "print(\"Tuple Slicing:\", slice_tuple_result)\n",
    "length_tuple_result = len(tuple1)\n",
    "print(\"Length of Tuple:\", length_tuple_result)\n",
    "count_tuple_result = tuple1.count(3)\n",
    "print(\"Count of element 3 in Tuple:\", count_tuple_result)\n",
    "index_tuple_result = tuple1.index(4)\n",
    "print(\"Index of element 4 in Tuple:\", index_tuple_result)"
   ]
  },
  {
   "cell_type": "code",
   "execution_count": 8,
   "id": "f379a6dc",
   "metadata": {},
   "outputs": [
    {
     "name": "stdout",
     "output_type": "stream",
     "text": [
      "Set Union: {1, 2, 3, 4, 5}\n",
      "Set Intersection: {3}\n",
      "Set Difference: {1, 2}\n",
      "Set Symmetric Difference: {1, 2, 4, 5}\n",
      "Set after Addition: {1, 2, 3, 6}\n",
      "Set after Remove: {1, 3, 6}\n",
      "Check if 3 is in Set: True\n",
      "Copied Set: {1, 3, 6}\n",
      "Set after Clear: set()\n"
     ]
    }
   ],
   "source": [
    "# Set Operations\n",
    "set1 = {1, 2, 3}\n",
    "set2 = {3, 4, 5}\n",
    "union_result = set1 | set2\n",
    "print(\"Set Union:\", union_result)\n",
    "intersection_result = set1 & set2\n",
    "print(\"Set Intersection:\", intersection_result)\n",
    "difference_result = set1 - set2\n",
    "print(\"Set Difference:\", difference_result)\n",
    "symmetric_difference_result = set1 ^ set2\n",
    "print(\"Set Symmetric Difference:\", symmetric_difference_result)\n",
    "set1.add(6)\n",
    "print(\"Set after Addition:\", set1)\n",
    "set1.remove(2)\n",
    "print(\"Set after Remove:\", set1)\n",
    "membership_result = 3 in set1\n",
    "print(\"Check if 3 is in Set:\", membership_result)\n",
    "set_copy = set1.copy()\n",
    "print(\"Copied Set:\", set_copy)\n",
    "set1.clear()\n",
    "print(\"Set after Clear:\", set1)"
   ]
  },
  {
   "cell_type": "code",
   "execution_count": null,
   "id": "7501ff09",
   "metadata": {},
   "outputs": [],
   "source": []
  }
 ],
 "metadata": {
  "kernelspec": {
   "display_name": "Python 3 (ipykernel)",
   "language": "python",
   "name": "python3"
  },
  "language_info": {
   "codemirror_mode": {
    "name": "ipython",
    "version": 3
   },
   "file_extension": ".py",
   "mimetype": "text/x-python",
   "name": "python",
   "nbconvert_exporter": "python",
   "pygments_lexer": "ipython3",
   "version": "3.11.5"
  }
 },
 "nbformat": 4,
 "nbformat_minor": 5
}
